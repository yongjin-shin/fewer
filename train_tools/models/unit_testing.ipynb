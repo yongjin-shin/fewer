{
 "cells": [
  {
   "cell_type": "code",
   "execution_count": 1,
   "metadata": {},
   "outputs": [
    {
     "name": "stdout",
     "output_type": "stream",
     "text": [
      "VggNet was made\n",
      "VggNet was made\n",
      "========VggNet works========\n"
     ]
    }
   ],
   "source": [
    "import torch\n",
    "from vggnet import *\n",
    "\n",
    "vgg11_slim_net = vgg11_slim()\n",
    "vgg11_net = vgg11()\n",
    "\n",
    "sample = torch.randn(4, 3, 32, 32)\n",
    "\n",
    "out = vgg11_slim_net(sample)\n",
    "out = vgg11_net(sample)\n",
    "\n",
    "print('========VggNet works========')"
   ]
  },
  {
   "cell_type": "code",
   "execution_count": 2,
   "metadata": {},
   "outputs": [
    {
     "name": "stdout",
     "output_type": "stream",
     "text": [
      "ResNet was made\n",
      "ResNet was made\n",
      "========ResNet works========\n"
     ]
    }
   ],
   "source": [
    "import torch\n",
    "from resnet import *\n",
    "\n",
    "res8 = resnet8()\n",
    "res14 = resnet14()\n",
    "\n",
    "sample = torch.randn(4, 3, 32, 32)\n",
    "\n",
    "out = res8(sample)\n",
    "out = res14(sample)\n",
    "\n",
    "print('========ResNet works========')"
   ]
  },
  {
   "cell_type": "code",
   "execution_count": 3,
   "metadata": {},
   "outputs": [
    {
     "name": "stdout",
     "output_type": "stream",
     "text": [
      "MnistCNN was made\n",
      "CifarCNN was made\n",
      "========MnistCNN & CifarCNN works========\n"
     ]
    }
   ],
   "source": [
    "import torch\n",
    "from fedavgnet import *\n",
    "\n",
    "net1 = MnistCNN()\n",
    "net2 = CifarCNN()\n",
    "\n",
    "sample1 = torch.randn(4, 3, 28, 28)\n",
    "sample2 = torch.randn(4, 3, 32, 32)\n",
    "\n",
    "out = net1(sample1)\n",
    "out = net2(sample2)\n",
    "\n",
    "print('========MnistCNN & CifarCNN works========')"
   ]
  },
  {
   "cell_type": "code",
   "execution_count": 4,
   "metadata": {},
   "outputs": [
    {
     "name": "stdout",
     "output_type": "stream",
     "text": [
      "MLP was made\n",
      "DeepMLP was made\n",
      "TestCNN was made\n",
      "========MLP, DeepMLP, TestCNN works========\n"
     ]
    }
   ],
   "source": [
    "import torch\n",
    "from basenet import *\n",
    "\n",
    "net1 = MLP()\n",
    "net2 = DeepMLP()\n",
    "net3 = TestCNN()\n",
    "\n",
    "sample = torch.randn(4, 3, 32, 32)\n",
    "out = net1(sample)\n",
    "out = net2(sample)\n",
    "out = net3(sample)\n",
    "\n",
    "print('========MLP, DeepMLP, TestCNN works========')"
   ]
  }
 ],
 "metadata": {
  "kernelspec": {
   "display_name": "Python 3",
   "language": "python",
   "name": "python3"
  },
  "language_info": {
   "codemirror_mode": {
    "name": "ipython",
    "version": 3
   },
   "file_extension": ".py",
   "mimetype": "text/x-python",
   "name": "python",
   "nbconvert_exporter": "python",
   "pygments_lexer": "ipython3",
   "version": "3.7.3"
  }
 },
 "nbformat": 4,
 "nbformat_minor": 2
}
